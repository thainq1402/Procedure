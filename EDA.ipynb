{
 "cells": [
  {
   "cell_type": "code",
   "execution_count": 3,
   "metadata": {},
   "outputs": [],
   "source": [
    "import pandas as pd \n",
    "import mysql.connector"
   ]
  },
  {
   "cell_type": "markdown",
   "metadata": {},
   "source": [
    "# Khai báo tham số của database"
   ]
  },
  {
   "cell_type": "code",
   "execution_count": 4,
   "metadata": {},
   "outputs": [],
   "source": [
    "user = 'tuyendungUser'\n",
    "password = 'sinhvienBK'\n",
    "database = 'ThongTinTuyenDung'\n",
    "host = '103.56.158.31'\n",
    "port = '3306'"
   ]
  },
  {
   "cell_type": "markdown",
   "metadata": {},
   "source": [
    "# Connect to database"
   ]
  },
  {
   "cell_type": "code",
   "execution_count": 6,
   "metadata": {},
   "outputs": [],
   "source": [
    "try: \n",
    "    connect = mysql.connector.connect(user = user,\n",
    "                              password = password, \n",
    "                              host = host, \n",
    "                              database = database)\n",
    "\n",
    "    # create cursor\n",
    "    cursor = connect.cursor()\n",
    "\n",
    "    query = 'select KinhNghiemTB from Stg_ThongTin where ID_Nganh = 2'\n",
    "\n",
    "    cursor.execute(query)\n",
    "\n",
    "    rows = cursor.fetchall()\n",
    "\n",
    "    df = pd.DataFrame(rows)\n",
    "\n",
    "except mysql.connector.Error as err:\n",
    "    if err.errno == errorcode.ER_ACCESS+DENIED_ERROR:\n",
    "        print(\"Something went wrong  with user or password\")\n",
    "    elif err.errno == errorcode.ER_BAD_DB_ERROR:\n",
    "        print(\"DB does not exist\")\n",
    "    else:\n",
    "        print(err)\n",
    "else:\n",
    "    connect.close()\n",
    "    \n",
    "\n",
    "\n"
   ]
  },
  {
   "cell_type": "code",
   "execution_count": 8,
   "metadata": {},
   "outputs": [],
   "source": [
    "df.columns = ['KinhNghiem']\n"
   ]
  },
  {
   "cell_type": "code",
   "execution_count": 12,
   "metadata": {},
   "outputs": [
    {
     "data": {
      "text/html": [
       "<div>\n",
       "<style scoped>\n",
       "    .dataframe tbody tr th:only-of-type {\n",
       "        vertical-align: middle;\n",
       "    }\n",
       "\n",
       "    .dataframe tbody tr th {\n",
       "        vertical-align: top;\n",
       "    }\n",
       "\n",
       "    .dataframe thead th {\n",
       "        text-align: right;\n",
       "    }\n",
       "</style>\n",
       "<table border=\"1\" class=\"dataframe\">\n",
       "  <thead>\n",
       "    <tr style=\"text-align: right;\">\n",
       "      <th></th>\n",
       "      <th>KinhNghiem</th>\n",
       "    </tr>\n",
       "  </thead>\n",
       "  <tbody>\n",
       "    <tr>\n",
       "      <th>15809</th>\n",
       "      <td>0.0</td>\n",
       "    </tr>\n",
       "    <tr>\n",
       "      <th>27931</th>\n",
       "      <td>0.0</td>\n",
       "    </tr>\n",
       "    <tr>\n",
       "      <th>27929</th>\n",
       "      <td>0.0</td>\n",
       "    </tr>\n",
       "    <tr>\n",
       "      <th>27928</th>\n",
       "      <td>0.0</td>\n",
       "    </tr>\n",
       "    <tr>\n",
       "      <th>27926</th>\n",
       "      <td>0.0</td>\n",
       "    </tr>\n",
       "    <tr>\n",
       "      <th>27924</th>\n",
       "      <td>0.0</td>\n",
       "    </tr>\n",
       "  </tbody>\n",
       "</table>\n",
       "</div>"
      ],
      "text/plain": [
       "      KinhNghiem\n",
       "15809        0.0\n",
       "27931        0.0\n",
       "27929        0.0\n",
       "27928        0.0\n",
       "27926        0.0\n",
       "27924        0.0"
      ]
     },
     "execution_count": 12,
     "metadata": {},
     "output_type": "execute_result"
    }
   ],
   "source": [
    "df_sort = df.sort_values(by = ['KinhNghiem'], ascending=[True])\n",
    "df_sort.head(6)"
   ]
  },
  {
   "cell_type": "markdown",
   "metadata": {},
   "source": [
    "# Mô tả dữ liệu"
   ]
  },
  {
   "cell_type": "code",
   "execution_count": 32,
   "metadata": {},
   "outputs": [
    {
     "name": "stdout",
     "output_type": "stream",
     "text": [
      "count    31620.000000\n",
      "mean         2.601164\n",
      "std          1.241469\n",
      "min          0.000000\n",
      "25%          2.200000\n",
      "50%          3.000000\n",
      "75%          3.000000\n",
      "max         25.000000\n",
      "Name: KinhNghiem, dtype: float64\n",
      "Median (Q2): 3.0\n",
      "25th percentile (Q1): 2.2\n",
      "75th percentile (Q3): 3.0\n"
     ]
    }
   ],
   "source": [
    "import pandas as pd\n",
    "\n",
    "# Assuming df is your DataFrame and 'KinhNghiem' is the column you're interested in\n",
    "df['KinhNghiem'] = df['KinhNghiem'].astype(float)\n",
    "\n",
    "# Use describe to get summary statistics\n",
    "summary_stats = df['KinhNghiem'].describe()\n",
    "\n",
    "# Print the summary statistics\n",
    "print(summary_stats)\n",
    "\n",
    "# Extract specific values\n",
    "median = summary_stats['50%']  # Median (Q2)\n",
    "q25 = summary_stats['25%']  # 25th percentile (Q1)\n",
    "q75 = summary_stats['75%']  # 75th percentile (Q3)\n",
    "\n",
    "# Print the values\n",
    "print(f\"Median (Q2): {median}\")\n",
    "print(f\"25th percentile (Q1): {q25}\")\n",
    "print(f\"75th percentile (Q3): {q75}\")\n"
   ]
  },
  {
   "cell_type": "markdown",
   "metadata": {},
   "source": [
    "# Vẽ biểu đồ"
   ]
  },
  {
   "cell_type": "code",
   "execution_count": 15,
   "metadata": {},
   "outputs": [],
   "source": [
    "import matplotlib.pyplot as plt \n"
   ]
  },
  {
   "cell_type": "code",
   "execution_count": 33,
   "metadata": {},
   "outputs": [
    {
     "data": {
      "text/plain": [
       "(array([2.2750e+03, 2.0000e+00, 1.2000e+01, 1.0000e+00, 2.5390e+03,\n",
       "        2.2000e+01, 6.3800e+02, 4.1000e+01, 3.0620e+03, 2.3600e+02,\n",
       "        2.4620e+03, 0.0000e+00, 1.7894e+04, 1.0000e+00, 6.5200e+02,\n",
       "        1.5000e+01, 7.6800e+02, 0.0000e+00, 5.9000e+01, 0.0000e+00,\n",
       "        4.3800e+02, 1.6000e+01, 7.6000e+01, 0.0000e+00, 1.0900e+02,\n",
       "        0.0000e+00, 4.9000e+01, 0.0000e+00, 2.6000e+01, 0.0000e+00,\n",
       "        8.3000e+01, 0.0000e+00, 1.7000e+01, 0.0000e+00, 2.2000e+01,\n",
       "        0.0000e+00, 8.0000e+00, 0.0000e+00, 4.0000e+00, 0.0000e+00,\n",
       "        2.7000e+01, 0.0000e+00, 0.0000e+00, 0.0000e+00, 1.6000e+01,\n",
       "        0.0000e+00, 5.0000e+00, 0.0000e+00, 2.0000e+00, 0.0000e+00,\n",
       "        1.0000e+01, 0.0000e+00, 0.0000e+00, 0.0000e+00, 2.0000e+00,\n",
       "        0.0000e+00, 2.0000e+00, 0.0000e+00, 0.0000e+00, 0.0000e+00,\n",
       "        2.1000e+01, 0.0000e+00, 0.0000e+00, 0.0000e+00, 0.0000e+00,\n",
       "        0.0000e+00, 0.0000e+00, 0.0000e+00, 0.0000e+00, 0.0000e+00,\n",
       "        1.0000e+00, 0.0000e+00, 0.0000e+00, 0.0000e+00, 0.0000e+00,\n",
       "        0.0000e+00, 4.0000e+00, 0.0000e+00, 0.0000e+00, 0.0000e+00,\n",
       "        2.0000e+00, 0.0000e+00, 0.0000e+00, 0.0000e+00, 0.0000e+00,\n",
       "        0.0000e+00, 0.0000e+00, 0.0000e+00, 0.0000e+00, 0.0000e+00,\n",
       "        0.0000e+00, 0.0000e+00, 0.0000e+00, 0.0000e+00, 0.0000e+00,\n",
       "        0.0000e+00, 0.0000e+00, 0.0000e+00, 0.0000e+00, 1.0000e+00]),\n",
       " array([ 0.  ,  0.25,  0.5 ,  0.75,  1.  ,  1.25,  1.5 ,  1.75,  2.  ,\n",
       "         2.25,  2.5 ,  2.75,  3.  ,  3.25,  3.5 ,  3.75,  4.  ,  4.25,\n",
       "         4.5 ,  4.75,  5.  ,  5.25,  5.5 ,  5.75,  6.  ,  6.25,  6.5 ,\n",
       "         6.75,  7.  ,  7.25,  7.5 ,  7.75,  8.  ,  8.25,  8.5 ,  8.75,\n",
       "         9.  ,  9.25,  9.5 ,  9.75, 10.  , 10.25, 10.5 , 10.75, 11.  ,\n",
       "        11.25, 11.5 , 11.75, 12.  , 12.25, 12.5 , 12.75, 13.  , 13.25,\n",
       "        13.5 , 13.75, 14.  , 14.25, 14.5 , 14.75, 15.  , 15.25, 15.5 ,\n",
       "        15.75, 16.  , 16.25, 16.5 , 16.75, 17.  , 17.25, 17.5 , 17.75,\n",
       "        18.  , 18.25, 18.5 , 18.75, 19.  , 19.25, 19.5 , 19.75, 20.  ,\n",
       "        20.25, 20.5 , 20.75, 21.  , 21.25, 21.5 , 21.75, 22.  , 22.25,\n",
       "        22.5 , 22.75, 23.  , 23.25, 23.5 , 23.75, 24.  , 24.25, 24.5 ,\n",
       "        24.75, 25.  ]),\n",
       " <BarContainer object of 100 artists>)"
      ]
     },
     "execution_count": 33,
     "metadata": {},
     "output_type": "execute_result"
    },
    {
     "data": {
      "image/png": "[encoded data removed]",
      "text/plain": [
       "<Figure size 640x480 with 1 Axes>"
      ]
     },
     "metadata": {},
     "output_type": "display_data"
    }
   ],
   "source": [
    "fig,ax = plt.subplots()\n",
    "\n",
    "plt.hist(df_sort,bins = 100)"
   ]
  },
  {
   "cell_type": "code",
   "execution_count": 37,
   "metadata": {},
   "outputs": [
    {
     "name": "stdout",
     "output_type": "stream",
     "text": [
      "                 0\n",
      "count  1000.000000\n",
      "mean      1.458759\n",
      "std       1.458765\n",
      "min       0.006964\n",
      "25%       0.403735\n",
      "50%       1.030174\n",
      "75%       2.045745\n",
      "max      12.258668\n"
     ]
    },
    {
     "data": {
      "image/png": "[encoded data removed]",
      "text/plain": [
       "<Figure size 640x480 with 1 Axes>"
      ]
     },
     "metadata": {},
     "output_type": "display_data"
    }
   ],
   "source": [
    "import matplotlib.pyplot as plt\n",
    "import numpy as np\n",
    "\n",
    "# Tạo dữ liệu mẫu có độ chệch lệch về phải\n",
    "np.random.seed(42)\n",
    "data = np.random.exponential(scale=1.5, size=1000)  # Phân phối mũ\n",
    "df = pd.DataFrame(data)\n",
    "print(df.describe())\n",
    "# Vẽ biểu đồ tần suất\n",
    "plt.hist(data, bins=30, density=True, color='skyblue', edgecolor='black', alpha=0.7)\n",
    "plt.title('Biểu Đồ Tần Suất của Dữ Liệu')\n",
    "plt.xlabel('Giá trị')\n",
    "plt.ylabel('Tần suất tương đối')\n",
    "plt.grid(True)\n",
    "plt.show()\n"
   ]
  }
 ],
 "metadata": {
  "kernelspec": {
   "display_name": "Python 3",
   "language": "python",
   "name": "python3"
  },
  "language_info": {
   "codemirror_mode": {
    "name": "ipython",
    "version": 3
   },
   "file_extension": ".py",
   "mimetype": "text/x-python",
   "name": "python",
   "nbconvert_exporter": "python",
   "pygments_lexer": "ipython3",
   "version": "3.12.0"
  }
 },
 "nbformat": 4,
 "nbformat_minor": 2
}
